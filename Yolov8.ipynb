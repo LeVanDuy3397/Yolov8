{
  "nbformat": 4,
  "nbformat_minor": 0,
  "metadata": {
    "colab": {
      "provenance": [],
      "name": "Yolov8.ipynb",
      "mount_file_id": "1ky3UHn9LfOFVVG7wfOUaffu0KKF0Ja06",
      "authorship_tag": "ABX9TyNLSaKga7yD5ipAw7VJcWGd",
      "include_colab_link": true
    },
    "kernelspec": {
      "name": "python3",
      "display_name": "Python 3"
    },
    "language_info": {
      "name": "python"
    }
  },
  "cells": [
    {
      "cell_type": "markdown",
      "metadata": {
        "id": "view-in-github",
        "colab_type": "text"
      },
      "source": [
        "<a href=\"https://colab.research.google.com/github/LeVanDuy3397/Yolov8/blob/main/Yolov8.ipynb\" target=\"_parent\"><img src=\"https://colab.research.google.com/assets/colab-badge.svg\" alt=\"Open In Colab\"/></a>"
      ]
    },
    {
      "cell_type": "code",
      "source": [
        "import torch\n",
        "import torch.nn as nn"
      ],
      "metadata": {
        "id": "mo8D3YpUrtPC"
      },
      "execution_count": null,
      "outputs": []
    },
    {
      "cell_type": "code",
      "source": [
        "class Conv(nn.Module):\n",
        "    \"\"\"Standard convolution block: Conv2d -> BatchNorm -> SiLU\"\"\"\n",
        "    def __init__(self, in_channels, out_channels, kernel_size=1, stride=1, padding=None):\n",
        "        super().__init__()\n",
        "        if padding is None:\n",
        "            padding = kernel_size // 2\n",
        "        self.conv = nn.Conv2d(in_channels, out_channels, kernel_size, stride, padding, bias=False)\n",
        "        self.bn = nn.BatchNorm2d(out_channels)\n",
        "        self.act = nn.SiLU()\n",
        "\n",
        "    def forward(self, x):\n",
        "        return self.act(self.bn(self.conv(x)))\n"
      ],
      "metadata": {
        "id": "718J-Svgr32q"
      },
      "execution_count": null,
      "outputs": []
    },
    {
      "cell_type": "code",
      "source": [
        "class C2f(nn.Module):\n",
        "    \"\"\"C2f module: Cross Stage Partial with concatenation (used in YOLOv8)\"\"\"\n",
        "    def __init__(self, in_channels, out_channels, n=1, shortcut=True):\n",
        "        super().__init__()\n",
        "        hidden_channels = int(out_channels / 2)\n",
        "        self.cv1 = Conv(in_channels, 2 * hidden_channels, 1, 1)\n",
        "        self.cv2 = Conv((n + 2) * hidden_channels, out_channels, 1)\n",
        "        self.m = nn.ModuleList(Conv(hidden_channels, hidden_channels, 3) for _ in range(n))\n",
        "        self.shortcut = shortcut\n",
        "\n",
        "    def forward(self, x):\n",
        "        y = list(torch.chunk(self.cv1(x), 2, dim=1))\n",
        "        for m in self.m:\n",
        "            y.append(m(y[-1]) if self.shortcut else m(y[1]))\n",
        "        return self.cv2(torch.cat(y, 1))"
      ],
      "metadata": {
        "id": "uSfH6Bzlr43z"
      },
      "execution_count": null,
      "outputs": []
    },
    {
      "cell_type": "code",
      "source": [
        "class SPPF(nn.Module):\n",
        "    \"\"\"SPPF module: Spatial Pyramid Pooling - Fast\"\"\"\n",
        "    def __init__(self, in_channels, out_channels, k=5):\n",
        "        super().__init__()\n",
        "        self.cv1 = Conv(in_channels, in_channels // 2, 1, 1)\n",
        "        self.cv2 = Conv(in_channels * 2, out_channels, 1, 1)\n",
        "        self.m = nn.MaxPool2d(kernel_size=k, stride=1, padding=k // 2)\n",
        "\n",
        "    def forward(self, x):\n",
        "        x = self.cv1(x)\n",
        "        y1 = self.m(x)\n",
        "        y2 = self.m(y1)\n",
        "        y3 = self.m(y2)\n",
        "        return self.cv2(torch.cat([x, y1, y2, y3], 1))"
      ],
      "metadata": {
        "id": "YQZeQj1Br7rp"
      },
      "execution_count": null,
      "outputs": []
    },
    {
      "cell_type": "code",
      "source": [
        "# Define the simplified YOLOv8 Backbone\n",
        "class YOLOv8Backbone(nn.Module):\n",
        "    def __init__(self, ch=3):\n",
        "        super().__init__()\n",
        "        self.stem = Conv(ch, 32, 3, 2)\n",
        "        self.stage1 = nn.Sequential(\n",
        "            Conv(32, 64, 3, 2),\n",
        "            C2f(64, 64, n=1)\n",
        "        )\n",
        "        self.stage2 = nn.Sequential(\n",
        "            Conv(64, 128, 3, 2),\n",
        "            C2f(128, 128, n=2)\n",
        "        )\n",
        "        self.stage3 = nn.Sequential(\n",
        "            Conv(128, 256, 3, 2),\n",
        "            C2f(256, 256, n=3)\n",
        "        )\n",
        "        self.stage4 = nn.Sequential(\n",
        "            Conv(256, 512, 3, 2),\n",
        "            C2f(512, 512, n=1),\n",
        "            SPPF(512, 512)\n",
        "        )\n",
        "\n",
        "    def forward(self, x):\n",
        "        x = self.stem(x)\n",
        "        x = self.stage1(x)\n",
        "        x = self.stage2(x)\n",
        "        x_small = self.stage3(x)\n",
        "        x_large = self.stage4(x_small)\n",
        "        return x_small, x_large"
      ],
      "metadata": {
        "id": "2URXqRu0r_By"
      },
      "execution_count": null,
      "outputs": []
    },
    {
      "cell_type": "code",
      "source": [
        "class YOLOv8Neck(nn.Module):\n",
        "    def __init__(self):\n",
        "        super().__init__()\n",
        "        self.reduce_conv1 = Conv(512, 256, 1, 1)\n",
        "        self.reduce_conv2 = Conv(256, 128, 1, 1)\n",
        "\n",
        "        self.upsample = nn.Upsample(scale_factor=2, mode='nearest')\n",
        "\n",
        "        self.c2f1 = C2f(256 + 256, 256, n=1)\n",
        "        self.c2f2 = C2f(128 + 128, 128, n=1)\n",
        "\n",
        "        self.down_conv1 = Conv(128, 128, 3, 2)\n",
        "        self.down_conv2 = Conv(256, 256, 3, 2)\n",
        "\n",
        "        self.c2f3 = C2f(128 + 256, 256, n=1)\n",
        "        self.c2f4 = C2f(256 + 512, 512, n=1)\n",
        "\n",
        "    def forward(self, x_small, x_large):\n",
        "        x = self.reduce_conv1(x_large)\n",
        "        x = self.upsample(x)\n",
        "        x = torch.cat([x, x_small], dim=1)\n",
        "        x = self.c2f1(x)\n",
        "\n",
        "        x_small_up = self.reduce_conv2(x)\n",
        "        x_small_up = self.upsample(x_small_up)\n",
        "        x_small_cat = torch.cat([x_small_up, x_small_up], dim=1)\n",
        "        x_small_out = self.c2f2(x_small_cat)\n",
        "\n",
        "        x_down1 = self.down_conv1(x_small_out)\n",
        "        x_down1 = torch.cat([x_down1, x], dim=1)\n",
        "        x_down1 = self.c2f3(x_down1)\n",
        "\n",
        "        x_down2 = self.down_conv2(x_down1)\n",
        "        x_down2 = torch.cat([x_down2, x_large], dim=1)\n",
        "        x_down2 = self.c2f4(x_down2)\n",
        "\n",
        "        return x_small_out, x_down1, x_down2"
      ],
      "metadata": {
        "id": "aE0OAd9psDGy"
      },
      "execution_count": null,
      "outputs": []
    },
    {
      "cell_type": "code",
      "source": [
        "class DetectHead(nn.Module):\n",
        "    def __init__(self, num_classes=80, ch=[128, 256, 512]):\n",
        "        super().__init__()\n",
        "        self.detect_layers = nn.ModuleList()\n",
        "        for c in ch:\n",
        "            self.detect_layers.append(\n",
        "                nn.Conv2d(c, num_classes + 5, 1)\n",
        "            )\n",
        "\n",
        "    def forward(self, features):\n",
        "        outputs = []\n",
        "        for x, conv in zip(features, self.detect_layers):\n",
        "            out = conv(x)\n",
        "            bs, _, h, w = out.shape\n",
        "            out = out.view(bs, -1, h * w).permute(0, 2, 1)\n",
        "            outputs.append(out)\n",
        "        return torch.cat(outputs, 1)"
      ],
      "metadata": {
        "id": "l23wK3SGsGgp"
      },
      "execution_count": null,
      "outputs": []
    },
    {
      "cell_type": "code",
      "source": [
        "class YOLOv8(nn.Module):\n",
        "    def __init__(self, num_classes=80):\n",
        "        super().__init__()\n",
        "        self.backbone = YOLOv8Backbone()\n",
        "        self.neck = YOLOv8Neck()\n",
        "        self.head = DetectHead(num_classes=num_classes)\n",
        "\n",
        "    def forward(self, x):\n",
        "        x_small, x_large = self.backbone(x)\n",
        "        features = self.neck(x_small, x_large)\n",
        "        out = self.head(features)\n",
        "        return out"
      ],
      "metadata": {
        "id": "4K-lzMdgsIzx"
      },
      "execution_count": null,
      "outputs": []
    },
    {
      "cell_type": "code",
      "source": [
        "# Instantiate and test\n",
        "model = YOLOv8(num_classes=80)\n",
        "# hàm randn sẽ lấy 1 tensor đầu vào với giá trị ngẫu nhiên, còn bên trong là hình dạng của tensor\n",
        "# 1 là duy nhất 1 tensor, 3 là số kênh, 640x640 là chiều cao và rộng\n",
        "dummy_input = torch.randn(1, 3, 640, 640)\n",
        "# còn tensor đầu vào sẽ lưu trữ dữ liệu hình ảnh dưới dạng các pixel, cụ thể đầu tiên là xác định pixel của\n",
        "# hình ảnh nào (ở đây là chỉ có 1 hình ảnh), sau đó xác định kênh màu của pixel đó,\n",
        "# cuối cùng xác định vị trí pixel trong khoảng 640x640\n",
        "# còn bản chất tensor đầu vào này chưa phải feature maps, nó mới là dữ liệu hình ảnh thô đầu vào\n",
        "# còn bản chất feature maps sẽ được tạo ra sau khi dữ liệu hình ảnh được xử lý qua các lớp conv của model\n",
        "# mỗi lớp conv sẽ trích xuất đặc trưng khác nhau của ảnh tạo ra tập hợp các feature maps\n",
        "\n",
        "# tổng quan mô hình: ảnh đầu vào là bức tranh phong cảnh -> feature maps là các bản phác thảo của bức tranh\n",
        "# -> còn model là 1 họa sĩ, sẽ dùng các bản phác thảo này để hiểu và phân tích bức tranh\n",
        "output = model(dummy_input)\n",
        "print(output.shape)\n",
        "# kết quả là torch.Size([1, 8400, 85])\n",
        "# với 1 là chuyển 1 hình ảnh duy nhất\n",
        "# với 8400 là số lượng hộp giới hạn dự đoán cho 1 hình ảnh đầu vào\n",
        "# và với mỗi hộp giới hạn có 85 giá trị liên quan đến vị trí, độ tin cậy của đối tượng và xác suất lớp"
      ],
      "metadata": {
        "colab": {
          "base_uri": "https://localhost:8080/"
        },
        "id": "FJYmHpjhsMtq",
        "outputId": "b0034ef2-8dff-45ce-d7a6-79f9bcf5eae2"
      },
      "execution_count": null,
      "outputs": [
        {
          "output_type": "stream",
          "name": "stdout",
          "text": [
            "torch.Size([1, 8400, 85])\n"
          ]
        }
      ]
    },
    {
      "cell_type": "code",
      "source": [
        "#1) nạp parameter từ model yolov8 có sẵn đã được huấn luyện trước\n",
        "\n",
        "#2) sau đó chạy inference, inference ở đây hiểu là suy luận tức là quá trình sử dụng\n",
        "# 1 model đã được train trước sau đó dự đoán với dữ liệu mới, vậy bây giờ sử dụng dữ liệu\n",
        "# thu thập được từ laptop cá nhân sau đó đưa ra dự đoán với model của mình"
      ],
      "metadata": {
        "id": "RfVifgjqyg5C"
      },
      "execution_count": null,
      "outputs": []
    },
    {
      "cell_type": "code",
      "source": [
        "!pip uninstall torch -y"
      ],
      "metadata": {
        "colab": {
          "base_uri": "https://localhost:8080/"
        },
        "id": "uNtIuamM0j3w",
        "outputId": "c7e08614-cf8f-4e7d-eb07-711879025c0e"
      },
      "execution_count": null,
      "outputs": [
        {
          "output_type": "stream",
          "name": "stdout",
          "text": [
            "Found existing installation: torch 2.6.0+cu118\n",
            "Uninstalling torch-2.6.0+cu118:\n",
            "  Successfully uninstalled torch-2.6.0+cu118\n"
          ]
        }
      ]
    },
    {
      "cell_type": "code",
      "source": [
        "!pip uninstall torchvision -y"
      ],
      "metadata": {
        "id": "XA4tXPHt51ID",
        "outputId": "81ff8bec-1ed7-4a81-ac83-6c87ea3c49c5",
        "colab": {
          "base_uri": "https://localhost:8080/"
        }
      },
      "execution_count": null,
      "outputs": [
        {
          "output_type": "stream",
          "name": "stdout",
          "text": [
            "Found existing installation: torchvision 0.21.0+cu118\n",
            "Uninstalling torchvision-0.21.0+cu118:\n",
            "  Successfully uninstalled torchvision-0.21.0+cu118\n"
          ]
        }
      ]
    },
    {
      "cell_type": "code",
      "source": [
        "!pip install torchvision --index-url https://download.pytorch.org/whl/cu118"
      ],
      "metadata": {
        "id": "ZAU9CUga4CJQ",
        "outputId": "fda25460-a291-4cab-d36d-e0ff57fc68e1",
        "colab": {
          "base_uri": "https://localhost:8080/"
        }
      },
      "execution_count": null,
      "outputs": [
        {
          "output_type": "stream",
          "name": "stdout",
          "text": [
            "Looking in indexes: https://download.pytorch.org/whl/cu118\n",
            "Collecting torchvision\n",
            "  Using cached https://download.pytorch.org/whl/cu118/torchvision-0.21.0%2Bcu118-cp311-cp311-linux_x86_64.whl.metadata (6.1 kB)\n",
            "Requirement already satisfied: numpy in /usr/local/lib/python3.11/dist-packages (from torchvision) (2.0.2)\n",
            "Collecting torch==2.6.0 (from torchvision)\n",
            "  Using cached https://download.pytorch.org/whl/cu118/torch-2.6.0%2Bcu118-cp311-cp311-linux_x86_64.whl.metadata (27 kB)\n",
            "Requirement already satisfied: pillow!=8.3.*,>=5.3.0 in /usr/local/lib/python3.11/dist-packages (from torchvision) (11.1.0)\n",
            "Requirement already satisfied: filelock in /usr/local/lib/python3.11/dist-packages (from torch==2.6.0->torchvision) (3.18.0)\n",
            "Requirement already satisfied: typing-extensions>=4.10.0 in /usr/local/lib/python3.11/dist-packages (from torch==2.6.0->torchvision) (4.13.0)\n",
            "Requirement already satisfied: networkx in /usr/local/lib/python3.11/dist-packages (from torch==2.6.0->torchvision) (3.4.2)\n",
            "Requirement already satisfied: jinja2 in /usr/local/lib/python3.11/dist-packages (from torch==2.6.0->torchvision) (3.1.6)\n",
            "Requirement already satisfied: fsspec in /usr/local/lib/python3.11/dist-packages (from torch==2.6.0->torchvision) (2025.3.2)\n",
            "Requirement already satisfied: nvidia-cuda-nvrtc-cu11==11.8.89 in /usr/local/lib/python3.11/dist-packages (from torch==2.6.0->torchvision) (11.8.89)\n",
            "Requirement already satisfied: nvidia-cuda-runtime-cu11==11.8.89 in /usr/local/lib/python3.11/dist-packages (from torch==2.6.0->torchvision) (11.8.89)\n",
            "Requirement already satisfied: nvidia-cuda-cupti-cu11==11.8.87 in /usr/local/lib/python3.11/dist-packages (from torch==2.6.0->torchvision) (11.8.87)\n",
            "Requirement already satisfied: nvidia-cudnn-cu11==9.1.0.70 in /usr/local/lib/python3.11/dist-packages (from torch==2.6.0->torchvision) (9.1.0.70)\n",
            "Requirement already satisfied: nvidia-cublas-cu11==11.11.3.6 in /usr/local/lib/python3.11/dist-packages (from torch==2.6.0->torchvision) (11.11.3.6)\n",
            "Requirement already satisfied: nvidia-cufft-cu11==10.9.0.58 in /usr/local/lib/python3.11/dist-packages (from torch==2.6.0->torchvision) (10.9.0.58)\n",
            "Requirement already satisfied: nvidia-curand-cu11==10.3.0.86 in /usr/local/lib/python3.11/dist-packages (from torch==2.6.0->torchvision) (10.3.0.86)\n",
            "Requirement already satisfied: nvidia-cusolver-cu11==11.4.1.48 in /usr/local/lib/python3.11/dist-packages (from torch==2.6.0->torchvision) (11.4.1.48)\n",
            "Requirement already satisfied: nvidia-cusparse-cu11==11.7.5.86 in /usr/local/lib/python3.11/dist-packages (from torch==2.6.0->torchvision) (11.7.5.86)\n",
            "Requirement already satisfied: nvidia-nccl-cu11==2.21.5 in /usr/local/lib/python3.11/dist-packages (from torch==2.6.0->torchvision) (2.21.5)\n",
            "Requirement already satisfied: nvidia-nvtx-cu11==11.8.86 in /usr/local/lib/python3.11/dist-packages (from torch==2.6.0->torchvision) (11.8.86)\n",
            "Requirement already satisfied: triton==3.2.0 in /usr/local/lib/python3.11/dist-packages (from torch==2.6.0->torchvision) (3.2.0)\n",
            "Requirement already satisfied: sympy==1.13.1 in /usr/local/lib/python3.11/dist-packages (from torch==2.6.0->torchvision) (1.13.1)\n",
            "Requirement already satisfied: mpmath<1.4,>=1.1.0 in /usr/local/lib/python3.11/dist-packages (from sympy==1.13.1->torch==2.6.0->torchvision) (1.3.0)\n",
            "Requirement already satisfied: MarkupSafe>=2.0 in /usr/local/lib/python3.11/dist-packages (from jinja2->torch==2.6.0->torchvision) (3.0.2)\n",
            "Using cached https://download.pytorch.org/whl/cu118/torchvision-0.21.0%2Bcu118-cp311-cp311-linux_x86_64.whl (6.5 MB)\n",
            "Using cached https://download.pytorch.org/whl/cu118/torch-2.6.0%2Bcu118-cp311-cp311-linux_x86_64.whl (848.7 MB)\n",
            "Installing collected packages: torch, torchvision\n",
            "Successfully installed torch-2.6.0+cu118 torchvision-0.21.0+cu118\n"
          ]
        }
      ]
    },
    {
      "cell_type": "code",
      "source": [
        "!pip install numpy"
      ],
      "metadata": {
        "id": "wEt25wQI7yk4",
        "outputId": "d40f06bf-4b66-4a7d-e0e8-3f6d0e80b087",
        "colab": {
          "base_uri": "https://localhost:8080/"
        }
      },
      "execution_count": null,
      "outputs": [
        {
          "output_type": "stream",
          "name": "stdout",
          "text": [
            "Requirement already satisfied: numpy in /usr/local/lib/python3.11/dist-packages (2.0.2)\n"
          ]
        }
      ]
    },
    {
      "cell_type": "code",
      "source": [
        "from PIL import Image\n",
        "from torchvision import transforms\n",
        "import numpy as np  # Import numpy\n",
        "\n",
        "image = Image.open(\"toi.jpg\")\n",
        "\n",
        "transform = transforms.Compose([\n",
        "    transforms.ToTensor(),\n",
        "    transforms.Resize((640, 640)),\n",
        "    transforms.Normalize(mean=[0.485, 0.456, 0.406], std=[0.229, 0.224, 0.225])\n",
        "])\n"
      ],
      "metadata": {
        "id": "a0Dawyui77rv"
      },
      "execution_count": null,
      "outputs": []
    },
    {
      "cell_type": "code",
      "source": [
        "tensor = transform(image)\n",
        "print(tensor)"
      ],
      "metadata": {
        "id": "1V1FtLrx8QDo",
        "colab": {
          "base_uri": "https://localhost:8080/"
        },
        "outputId": "48f948d6-9b11-46cf-cb9a-49c2e94f5794"
      },
      "execution_count": 21,
      "outputs": [
        {
          "output_type": "stream",
          "name": "stdout",
          "text": [
            "tensor([[[ 1.4677,  1.5108,  1.5151,  ..., -0.8105, -0.8248, -0.8361],\n",
            "         [ 1.4410,  1.4810,  1.4895,  ..., -0.8228, -0.8154, -0.8329],\n",
            "         [ 1.4223,  1.4666,  1.4955,  ..., -0.7876, -0.7686, -0.7917],\n",
            "         ...,\n",
            "         [ 2.0728,  2.0968,  2.1056,  ..., -0.9835, -0.8785, -0.8672],\n",
            "         [ 2.0709,  2.0942,  2.1033,  ..., -0.9352, -0.8956, -0.9088],\n",
            "         [ 2.0371,  2.0854,  2.1106,  ..., -0.8807, -0.8627, -0.8742]],\n",
            "\n",
            "        [[ 1.6274,  1.6543,  1.6303,  ..., -0.3359, -0.3483, -0.3727],\n",
            "         [ 1.6001,  1.6238,  1.6052,  ..., -0.3485, -0.3452, -0.3707],\n",
            "         [ 1.5810,  1.6091,  1.6146,  ..., -0.3125, -0.3171, -0.3323],\n",
            "         ...,\n",
            "         [ 2.3986,  2.3847,  2.3871,  ..., -0.4799, -0.4119, -0.4069],\n",
            "         [ 2.3629,  2.3771,  2.3815,  ..., -0.4601, -0.4344, -0.4495],\n",
            "         [ 2.3170,  2.3664,  2.3879,  ..., -0.4142, -0.4023, -0.4141]],\n",
            "\n",
            "        [[ 1.8847,  1.9542,  1.9672,  ..., -0.2364, -0.2770, -0.3057],\n",
            "         [ 1.8576,  1.9238,  1.9417,  ..., -0.2478, -0.2641, -0.3018],\n",
            "         [ 1.8385,  1.9092,  1.9495,  ..., -0.2087, -0.2067, -0.2580],\n",
            "         ...,\n",
            "         [ 2.5603,  2.5593,  2.5639,  ..., -0.7370, -0.6607, -0.6535],\n",
            "         [ 2.5360,  2.5534,  2.5599,  ..., -0.7124, -0.6928, -0.7089],\n",
            "         [ 2.4941,  2.5433,  2.5668,  ..., -0.6651, -0.6641, -0.6780]]])\n"
          ]
        }
      ]
    },
    {
      "cell_type": "code",
      "source": [
        "num_keys = len(model.state_dict().keys())\n",
        "print(f\"Số lượng keys: {num_keys}\")"
      ],
      "metadata": {
        "colab": {
          "base_uri": "https://localhost:8080/"
        },
        "id": "zYpvq8U7pH5Z",
        "outputId": "8cc1b653-6095-4adc-f369-923e0a54a0a2"
      },
      "execution_count": 27,
      "outputs": [
        {
          "output_type": "stream",
          "name": "stdout",
          "text": [
            "Số lượng keys: 234\n"
          ]
        }
      ]
    },
    {
      "cell_type": "code",
      "source": [
        "print(model)"
      ],
      "metadata": {
        "colab": {
          "base_uri": "https://localhost:8080/"
        },
        "id": "ix7fxe1iqk4S",
        "outputId": "83b03bfb-c6bd-4433-c59c-3ef213e9a259"
      },
      "execution_count": 29,
      "outputs": [
        {
          "output_type": "stream",
          "name": "stdout",
          "text": [
            "YOLOv8(\n",
            "  (backbone): YOLOv8Backbone(\n",
            "    (stem): Conv(\n",
            "      (conv): Conv2d(3, 32, kernel_size=(3, 3), stride=(2, 2), padding=(1, 1), bias=False)\n",
            "      (bn): BatchNorm2d(32, eps=1e-05, momentum=0.1, affine=True, track_running_stats=True)\n",
            "      (act): SiLU()\n",
            "    )\n",
            "    (stage1): Sequential(\n",
            "      (0): Conv(\n",
            "        (conv): Conv2d(32, 64, kernel_size=(3, 3), stride=(2, 2), padding=(1, 1), bias=False)\n",
            "        (bn): BatchNorm2d(64, eps=1e-05, momentum=0.1, affine=True, track_running_stats=True)\n",
            "        (act): SiLU()\n",
            "      )\n",
            "      (1): C2f(\n",
            "        (cv1): Conv(\n",
            "          (conv): Conv2d(64, 64, kernel_size=(1, 1), stride=(1, 1), bias=False)\n",
            "          (bn): BatchNorm2d(64, eps=1e-05, momentum=0.1, affine=True, track_running_stats=True)\n",
            "          (act): SiLU()\n",
            "        )\n",
            "        (cv2): Conv(\n",
            "          (conv): Conv2d(96, 64, kernel_size=(1, 1), stride=(1, 1), bias=False)\n",
            "          (bn): BatchNorm2d(64, eps=1e-05, momentum=0.1, affine=True, track_running_stats=True)\n",
            "          (act): SiLU()\n",
            "        )\n",
            "        (m): ModuleList(\n",
            "          (0): Conv(\n",
            "            (conv): Conv2d(32, 32, kernel_size=(3, 3), stride=(1, 1), padding=(1, 1), bias=False)\n",
            "            (bn): BatchNorm2d(32, eps=1e-05, momentum=0.1, affine=True, track_running_stats=True)\n",
            "            (act): SiLU()\n",
            "          )\n",
            "        )\n",
            "      )\n",
            "    )\n",
            "    (stage2): Sequential(\n",
            "      (0): Conv(\n",
            "        (conv): Conv2d(64, 128, kernel_size=(3, 3), stride=(2, 2), padding=(1, 1), bias=False)\n",
            "        (bn): BatchNorm2d(128, eps=1e-05, momentum=0.1, affine=True, track_running_stats=True)\n",
            "        (act): SiLU()\n",
            "      )\n",
            "      (1): C2f(\n",
            "        (cv1): Conv(\n",
            "          (conv): Conv2d(128, 128, kernel_size=(1, 1), stride=(1, 1), bias=False)\n",
            "          (bn): BatchNorm2d(128, eps=1e-05, momentum=0.1, affine=True, track_running_stats=True)\n",
            "          (act): SiLU()\n",
            "        )\n",
            "        (cv2): Conv(\n",
            "          (conv): Conv2d(256, 128, kernel_size=(1, 1), stride=(1, 1), bias=False)\n",
            "          (bn): BatchNorm2d(128, eps=1e-05, momentum=0.1, affine=True, track_running_stats=True)\n",
            "          (act): SiLU()\n",
            "        )\n",
            "        (m): ModuleList(\n",
            "          (0-1): 2 x Conv(\n",
            "            (conv): Conv2d(64, 64, kernel_size=(3, 3), stride=(1, 1), padding=(1, 1), bias=False)\n",
            "            (bn): BatchNorm2d(64, eps=1e-05, momentum=0.1, affine=True, track_running_stats=True)\n",
            "            (act): SiLU()\n",
            "          )\n",
            "        )\n",
            "      )\n",
            "    )\n",
            "    (stage3): Sequential(\n",
            "      (0): Conv(\n",
            "        (conv): Conv2d(128, 256, kernel_size=(3, 3), stride=(2, 2), padding=(1, 1), bias=False)\n",
            "        (bn): BatchNorm2d(256, eps=1e-05, momentum=0.1, affine=True, track_running_stats=True)\n",
            "        (act): SiLU()\n",
            "      )\n",
            "      (1): C2f(\n",
            "        (cv1): Conv(\n",
            "          (conv): Conv2d(256, 256, kernel_size=(1, 1), stride=(1, 1), bias=False)\n",
            "          (bn): BatchNorm2d(256, eps=1e-05, momentum=0.1, affine=True, track_running_stats=True)\n",
            "          (act): SiLU()\n",
            "        )\n",
            "        (cv2): Conv(\n",
            "          (conv): Conv2d(640, 256, kernel_size=(1, 1), stride=(1, 1), bias=False)\n",
            "          (bn): BatchNorm2d(256, eps=1e-05, momentum=0.1, affine=True, track_running_stats=True)\n",
            "          (act): SiLU()\n",
            "        )\n",
            "        (m): ModuleList(\n",
            "          (0-2): 3 x Conv(\n",
            "            (conv): Conv2d(128, 128, kernel_size=(3, 3), stride=(1, 1), padding=(1, 1), bias=False)\n",
            "            (bn): BatchNorm2d(128, eps=1e-05, momentum=0.1, affine=True, track_running_stats=True)\n",
            "            (act): SiLU()\n",
            "          )\n",
            "        )\n",
            "      )\n",
            "    )\n",
            "    (stage4): Sequential(\n",
            "      (0): Conv(\n",
            "        (conv): Conv2d(256, 512, kernel_size=(3, 3), stride=(2, 2), padding=(1, 1), bias=False)\n",
            "        (bn): BatchNorm2d(512, eps=1e-05, momentum=0.1, affine=True, track_running_stats=True)\n",
            "        (act): SiLU()\n",
            "      )\n",
            "      (1): C2f(\n",
            "        (cv1): Conv(\n",
            "          (conv): Conv2d(512, 512, kernel_size=(1, 1), stride=(1, 1), bias=False)\n",
            "          (bn): BatchNorm2d(512, eps=1e-05, momentum=0.1, affine=True, track_running_stats=True)\n",
            "          (act): SiLU()\n",
            "        )\n",
            "        (cv2): Conv(\n",
            "          (conv): Conv2d(768, 512, kernel_size=(1, 1), stride=(1, 1), bias=False)\n",
            "          (bn): BatchNorm2d(512, eps=1e-05, momentum=0.1, affine=True, track_running_stats=True)\n",
            "          (act): SiLU()\n",
            "        )\n",
            "        (m): ModuleList(\n",
            "          (0): Conv(\n",
            "            (conv): Conv2d(256, 256, kernel_size=(3, 3), stride=(1, 1), padding=(1, 1), bias=False)\n",
            "            (bn): BatchNorm2d(256, eps=1e-05, momentum=0.1, affine=True, track_running_stats=True)\n",
            "            (act): SiLU()\n",
            "          )\n",
            "        )\n",
            "      )\n",
            "      (2): SPPF(\n",
            "        (cv1): Conv(\n",
            "          (conv): Conv2d(512, 256, kernel_size=(1, 1), stride=(1, 1), bias=False)\n",
            "          (bn): BatchNorm2d(256, eps=1e-05, momentum=0.1, affine=True, track_running_stats=True)\n",
            "          (act): SiLU()\n",
            "        )\n",
            "        (cv2): Conv(\n",
            "          (conv): Conv2d(1024, 512, kernel_size=(1, 1), stride=(1, 1), bias=False)\n",
            "          (bn): BatchNorm2d(512, eps=1e-05, momentum=0.1, affine=True, track_running_stats=True)\n",
            "          (act): SiLU()\n",
            "        )\n",
            "        (m): MaxPool2d(kernel_size=5, stride=1, padding=2, dilation=1, ceil_mode=False)\n",
            "      )\n",
            "    )\n",
            "  )\n",
            "  (neck): YOLOv8Neck(\n",
            "    (reduce_conv1): Conv(\n",
            "      (conv): Conv2d(512, 256, kernel_size=(1, 1), stride=(1, 1), bias=False)\n",
            "      (bn): BatchNorm2d(256, eps=1e-05, momentum=0.1, affine=True, track_running_stats=True)\n",
            "      (act): SiLU()\n",
            "    )\n",
            "    (reduce_conv2): Conv(\n",
            "      (conv): Conv2d(256, 128, kernel_size=(1, 1), stride=(1, 1), bias=False)\n",
            "      (bn): BatchNorm2d(128, eps=1e-05, momentum=0.1, affine=True, track_running_stats=True)\n",
            "      (act): SiLU()\n",
            "    )\n",
            "    (upsample): Upsample(scale_factor=2.0, mode='nearest')\n",
            "    (c2f1): C2f(\n",
            "      (cv1): Conv(\n",
            "        (conv): Conv2d(512, 256, kernel_size=(1, 1), stride=(1, 1), bias=False)\n",
            "        (bn): BatchNorm2d(256, eps=1e-05, momentum=0.1, affine=True, track_running_stats=True)\n",
            "        (act): SiLU()\n",
            "      )\n",
            "      (cv2): Conv(\n",
            "        (conv): Conv2d(384, 256, kernel_size=(1, 1), stride=(1, 1), bias=False)\n",
            "        (bn): BatchNorm2d(256, eps=1e-05, momentum=0.1, affine=True, track_running_stats=True)\n",
            "        (act): SiLU()\n",
            "      )\n",
            "      (m): ModuleList(\n",
            "        (0): Conv(\n",
            "          (conv): Conv2d(128, 128, kernel_size=(3, 3), stride=(1, 1), padding=(1, 1), bias=False)\n",
            "          (bn): BatchNorm2d(128, eps=1e-05, momentum=0.1, affine=True, track_running_stats=True)\n",
            "          (act): SiLU()\n",
            "        )\n",
            "      )\n",
            "    )\n",
            "    (c2f2): C2f(\n",
            "      (cv1): Conv(\n",
            "        (conv): Conv2d(256, 128, kernel_size=(1, 1), stride=(1, 1), bias=False)\n",
            "        (bn): BatchNorm2d(128, eps=1e-05, momentum=0.1, affine=True, track_running_stats=True)\n",
            "        (act): SiLU()\n",
            "      )\n",
            "      (cv2): Conv(\n",
            "        (conv): Conv2d(192, 128, kernel_size=(1, 1), stride=(1, 1), bias=False)\n",
            "        (bn): BatchNorm2d(128, eps=1e-05, momentum=0.1, affine=True, track_running_stats=True)\n",
            "        (act): SiLU()\n",
            "      )\n",
            "      (m): ModuleList(\n",
            "        (0): Conv(\n",
            "          (conv): Conv2d(64, 64, kernel_size=(3, 3), stride=(1, 1), padding=(1, 1), bias=False)\n",
            "          (bn): BatchNorm2d(64, eps=1e-05, momentum=0.1, affine=True, track_running_stats=True)\n",
            "          (act): SiLU()\n",
            "        )\n",
            "      )\n",
            "    )\n",
            "    (down_conv1): Conv(\n",
            "      (conv): Conv2d(128, 128, kernel_size=(3, 3), stride=(2, 2), padding=(1, 1), bias=False)\n",
            "      (bn): BatchNorm2d(128, eps=1e-05, momentum=0.1, affine=True, track_running_stats=True)\n",
            "      (act): SiLU()\n",
            "    )\n",
            "    (down_conv2): Conv(\n",
            "      (conv): Conv2d(256, 256, kernel_size=(3, 3), stride=(2, 2), padding=(1, 1), bias=False)\n",
            "      (bn): BatchNorm2d(256, eps=1e-05, momentum=0.1, affine=True, track_running_stats=True)\n",
            "      (act): SiLU()\n",
            "    )\n",
            "    (c2f3): C2f(\n",
            "      (cv1): Conv(\n",
            "        (conv): Conv2d(384, 256, kernel_size=(1, 1), stride=(1, 1), bias=False)\n",
            "        (bn): BatchNorm2d(256, eps=1e-05, momentum=0.1, affine=True, track_running_stats=True)\n",
            "        (act): SiLU()\n",
            "      )\n",
            "      (cv2): Conv(\n",
            "        (conv): Conv2d(384, 256, kernel_size=(1, 1), stride=(1, 1), bias=False)\n",
            "        (bn): BatchNorm2d(256, eps=1e-05, momentum=0.1, affine=True, track_running_stats=True)\n",
            "        (act): SiLU()\n",
            "      )\n",
            "      (m): ModuleList(\n",
            "        (0): Conv(\n",
            "          (conv): Conv2d(128, 128, kernel_size=(3, 3), stride=(1, 1), padding=(1, 1), bias=False)\n",
            "          (bn): BatchNorm2d(128, eps=1e-05, momentum=0.1, affine=True, track_running_stats=True)\n",
            "          (act): SiLU()\n",
            "        )\n",
            "      )\n",
            "    )\n",
            "    (c2f4): C2f(\n",
            "      (cv1): Conv(\n",
            "        (conv): Conv2d(768, 512, kernel_size=(1, 1), stride=(1, 1), bias=False)\n",
            "        (bn): BatchNorm2d(512, eps=1e-05, momentum=0.1, affine=True, track_running_stats=True)\n",
            "        (act): SiLU()\n",
            "      )\n",
            "      (cv2): Conv(\n",
            "        (conv): Conv2d(768, 512, kernel_size=(1, 1), stride=(1, 1), bias=False)\n",
            "        (bn): BatchNorm2d(512, eps=1e-05, momentum=0.1, affine=True, track_running_stats=True)\n",
            "        (act): SiLU()\n",
            "      )\n",
            "      (m): ModuleList(\n",
            "        (0): Conv(\n",
            "          (conv): Conv2d(256, 256, kernel_size=(3, 3), stride=(1, 1), padding=(1, 1), bias=False)\n",
            "          (bn): BatchNorm2d(256, eps=1e-05, momentum=0.1, affine=True, track_running_stats=True)\n",
            "          (act): SiLU()\n",
            "        )\n",
            "      )\n",
            "    )\n",
            "  )\n",
            "  (head): DetectHead(\n",
            "    (detect_layers): ModuleList(\n",
            "      (0): Conv2d(128, 85, kernel_size=(1, 1), stride=(1, 1))\n",
            "      (1): Conv2d(256, 85, kernel_size=(1, 1), stride=(1, 1))\n",
            "      (2): Conv2d(512, 85, kernel_size=(1, 1), stride=(1, 1))\n",
            "    )\n",
            "  )\n",
            ")\n"
          ]
        }
      ]
    }
  ]
}